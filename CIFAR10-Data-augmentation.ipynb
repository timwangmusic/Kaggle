{
 "cells": [
  {
   "cell_type": "code",
   "execution_count": 1,
   "metadata": {},
   "outputs": [
    {
     "name": "stderr",
     "output_type": "stream",
     "text": [
      "Using TensorFlow backend.\n"
     ]
    }
   ],
   "source": [
    "import numpy as np\n",
    "from keras.datasets import cifar10\n",
    "from keras import models\n",
    "from keras import layers\n",
    "from keras.preprocessing.image import ImageDataGenerator"
   ]
  },
  {
   "cell_type": "code",
   "execution_count": 3,
   "metadata": {},
   "outputs": [],
   "source": [
    "(x_train, y_train), (x_test, y_test) = cifar10.load_data()"
   ]
  },
  {
   "cell_type": "code",
   "execution_count": 5,
   "metadata": {},
   "outputs": [],
   "source": [
    "# one-hot encoding\n",
    "from keras.utils import to_categorical\n",
    "y_train = to_categorical(y_train)\n",
    "y_test = to_categorical(y_test)"
   ]
  },
  {
   "cell_type": "code",
   "execution_count": 11,
   "metadata": {},
   "outputs": [],
   "source": [
    "# normalization\n",
    "x_train_normalized = x_train / 255\n",
    "x_test_normalized = x_test / 255"
   ]
  },
  {
   "cell_type": "code",
   "execution_count": 6,
   "metadata": {},
   "outputs": [],
   "source": [
    "# REF: https://keras.io/preprocessing/image/\n",
    "datagen = ImageDataGenerator(\n",
    "    featurewise_center=True,\n",
    "    featurewise_std_normalization=True,\n",
    "    rotation_range=20,\n",
    "    width_shift_range=0.2,\n",
    "    height_shift_range=0.2,\n",
    "    horizontal_flip=True)"
   ]
  },
  {
   "cell_type": "markdown",
   "metadata": {},
   "source": [
    "### Basic CNN"
   ]
  },
  {
   "cell_type": "code",
   "execution_count": 20,
   "metadata": {},
   "outputs": [],
   "source": [
    "network = models.Sequential()\n",
    "network.add(layers.Conv2D(32, (3,3), padding='same', activation='relu', input_shape=(32, 32, 3,)))\n",
    "network.add(layers.MaxPooling2D(pool_size=(2, 2)))\n",
    "network.add(layers.Conv2D(64, (3,3), padding='same', activation='relu'))\n",
    "network.add(layers.MaxPooling2D(pool_size=(2, 2)))\n",
    "network.add(layers.Dropout(0.4))\n",
    "network.add(layers.Conv2D(128, (3,3), padding='same', activation='relu'))\n",
    "network.add(layers.Flatten())\n",
    "network.add(layers.Dense(128, activation='relu'))\n",
    "network.add(layers.Dropout(0.3))\n",
    "network.add(layers.Dense(10, activation='softmax'))"
   ]
  },
  {
   "cell_type": "code",
   "execution_count": 21,
   "metadata": {},
   "outputs": [],
   "source": [
    "network.compile(optimizer='rmsprop',\n",
    "               loss = 'categorical_crossentropy',\n",
    "               metrics=['accuracy'])"
   ]
  },
  {
   "cell_type": "code",
   "execution_count": 22,
   "metadata": {},
   "outputs": [
    {
     "name": "stdout",
     "output_type": "stream",
     "text": [
      "Train on 40000 samples, validate on 10000 samples\n",
      "Epoch 1/10\n",
      "40000/40000 [==============================] - 7s - loss: 1.7902 - acc: 0.3551 - val_loss: 1.4222 - val_acc: 0.4974\n",
      "Epoch 2/10\n",
      "40000/40000 [==============================] - 7s - loss: 1.3686 - acc: 0.5157 - val_loss: 1.1450 - val_acc: 0.5977\n",
      "Epoch 3/10\n",
      "40000/40000 [==============================] - 7s - loss: 1.1643 - acc: 0.5936 - val_loss: 1.0850 - val_acc: 0.6297\n",
      "Epoch 4/10\n",
      "40000/40000 [==============================] - 7s - loss: 1.0369 - acc: 0.6371 - val_loss: 1.0621 - val_acc: 0.6283\n",
      "Epoch 5/10\n",
      "40000/40000 [==============================] - 7s - loss: 0.9405 - acc: 0.6724 - val_loss: 0.9304 - val_acc: 0.6707\n",
      "Epoch 6/10\n",
      "40000/40000 [==============================] - 7s - loss: 0.8657 - acc: 0.6998 - val_loss: 0.8669 - val_acc: 0.7004\n",
      "Epoch 7/10\n",
      "40000/40000 [==============================] - 7s - loss: 0.8065 - acc: 0.7185 - val_loss: 0.8176 - val_acc: 0.7191\n",
      "Epoch 8/10\n",
      "40000/40000 [==============================] - 7s - loss: 0.7547 - acc: 0.7397 - val_loss: 0.8756 - val_acc: 0.7080\n",
      "Epoch 9/10\n",
      "40000/40000 [==============================] - 7s - loss: 0.7094 - acc: 0.7500 - val_loss: 0.8381 - val_acc: 0.7113\n",
      "Epoch 10/10\n",
      "40000/40000 [==============================] - 7s - loss: 0.6715 - acc: 0.7677 - val_loss: 0.7650 - val_acc: 0.7377\n"
     ]
    },
    {
     "data": {
      "text/plain": [
       "<keras.callbacks.History at 0x7fa8a71299b0>"
      ]
     },
     "execution_count": 22,
     "metadata": {},
     "output_type": "execute_result"
    }
   ],
   "source": [
    "network.fit(x_train_normalized, y_train, epochs=10, batch_size=128, validation_split=0.2)"
   ]
  },
  {
   "cell_type": "code",
   "execution_count": 23,
   "metadata": {},
   "outputs": [
    {
     "name": "stdout",
     "output_type": "stream",
     "text": [
      "Basic CNN achieves accuracy of 73.54%\n"
     ]
    }
   ],
   "source": [
    "_, accuracy = network.evaluate(x_test_normalized, y_test, verbose=False)\n",
    "print(\"Basic CNN achieves accuracy of {}%\".format(accuracy * 100))"
   ]
  },
  {
   "cell_type": "code",
   "execution_count": 30,
   "metadata": {},
   "outputs": [],
   "source": [
    "network = models.Sequential()\n",
    "network.add(layers.Conv2D(32, (3,3), padding='same', activation='relu', input_shape=(32, 32, 3,)))\n",
    "network.add(layers.MaxPooling2D(pool_size=(2, 2)))\n",
    "network.add(layers.Conv2D(64, (3,3), padding='same', activation='relu'))\n",
    "network.add(layers.Conv2D(64, (3,3), padding='same', activation='relu'))\n",
    "network.add(layers.MaxPooling2D(pool_size=(2, 2)))\n",
    "network.add(layers.Dropout(0.4))\n",
    "network.add(layers.Conv2D(128, (3,3), padding='same', activation='relu'))\n",
    "network.add(layers.Flatten())\n",
    "network.add(layers.Dense(128, activation='relu'))\n",
    "network.add(layers.Dropout(0.3))\n",
    "network.add(layers.Dense(10, activation='softmax'))\n",
    "\n",
    "# Compile\n",
    "network.compile(optimizer='rmsprop',\n",
    "               loss = 'categorical_crossentropy',\n",
    "               metrics=['accuracy'])"
   ]
  },
  {
   "cell_type": "code",
   "execution_count": 31,
   "metadata": {
    "scrolled": true
   },
   "outputs": [
    {
     "name": "stdout",
     "output_type": "stream",
     "text": [
      "Train on 40000 samples, validate on 10000 samples\n",
      "Epoch 1/10\n",
      "40000/40000 [==============================] - 10s - loss: 1.8684 - acc: 0.3211 - val_loss: 1.6072 - val_acc: 0.4010\n",
      "Epoch 2/10\n",
      "40000/40000 [==============================] - 9s - loss: 1.4486 - acc: 0.4798 - val_loss: 1.2593 - val_acc: 0.5515\n",
      "Epoch 3/10\n",
      "40000/40000 [==============================] - 9s - loss: 1.2574 - acc: 0.5555 - val_loss: 1.1605 - val_acc: 0.5948\n",
      "Epoch 4/10\n",
      "40000/40000 [==============================] - 9s - loss: 1.1147 - acc: 0.6074 - val_loss: 1.1336 - val_acc: 0.6013\n",
      "Epoch 5/10\n",
      "40000/40000 [==============================] - 9s - loss: 1.0132 - acc: 0.6454 - val_loss: 0.9242 - val_acc: 0.6729\n",
      "Epoch 6/10\n",
      "40000/40000 [==============================] - 9s - loss: 0.9242 - acc: 0.6783 - val_loss: 1.0436 - val_acc: 0.6369\n",
      "Epoch 7/10\n",
      "40000/40000 [==============================] - 9s - loss: 0.8534 - acc: 0.7050 - val_loss: 0.9459 - val_acc: 0.6773\n",
      "Epoch 8/10\n",
      "40000/40000 [==============================] - 9s - loss: 0.7947 - acc: 0.7259 - val_loss: 0.8798 - val_acc: 0.6931\n",
      "Epoch 9/10\n",
      "40000/40000 [==============================] - 9s - loss: 0.7405 - acc: 0.7419 - val_loss: 0.8682 - val_acc: 0.7069\n",
      "Epoch 10/10\n",
      "40000/40000 [==============================] - 9s - loss: 0.6974 - acc: 0.7599 - val_loss: 0.7964 - val_acc: 0.7257\n"
     ]
    },
    {
     "data": {
      "text/plain": [
       "<keras.callbacks.History at 0x7fa8a4b14208>"
      ]
     },
     "execution_count": 31,
     "metadata": {},
     "output_type": "execute_result"
    }
   ],
   "source": [
    "network.fit(x_train_normalized, y_train, epochs=10, batch_size=128, validation_split=0.2)"
   ]
  },
  {
   "cell_type": "code",
   "execution_count": 34,
   "metadata": {},
   "outputs": [
    {
     "name": "stdout",
     "output_type": "stream",
     "text": [
      "Basic CNN achieves accuracy of 71.90%\n"
     ]
    }
   ],
   "source": [
    "_, accuracy = network.evaluate(x_test_normalized, y_test, verbose=False)\n",
    "print(\"Basic CNN achieves accuracy of %.2f%%\" % (accuracy * 100))"
   ]
  },
  {
   "cell_type": "markdown",
   "metadata": {},
   "source": [
    "### Now we try if data generator helps improves accuracy"
   ]
  },
  {
   "cell_type": "code",
   "execution_count": 24,
   "metadata": {},
   "outputs": [],
   "source": [
    "datagen.fit(x_train)"
   ]
  },
  {
   "cell_type": "code",
   "execution_count": 25,
   "metadata": {},
   "outputs": [
    {
     "name": "stdout",
     "output_type": "stream",
     "text": [
      "Epoch 1/10\n",
      "1563/1562 [==============================] - 20s - loss: 1.5543 - acc: 0.4699    \n",
      "Epoch 2/10\n",
      "1563/1562 [==============================] - 20s - loss: 1.4729 - acc: 0.4997    \n",
      "Epoch 3/10\n",
      "1563/1562 [==============================] - 20s - loss: 1.4536 - acc: 0.5026    \n",
      "Epoch 4/10\n",
      "1563/1562 [==============================] - 20s - loss: 1.4421 - acc: 0.5067    \n",
      "Epoch 5/10\n",
      "1563/1562 [==============================] - 20s - loss: 1.4389 - acc: 0.5106    \n",
      "Epoch 6/10\n",
      "1563/1562 [==============================] - 20s - loss: 1.4523 - acc: 0.5037    \n",
      "Epoch 7/10\n",
      "1563/1562 [==============================] - 20s - loss: 1.4595 - acc: 0.5027    \n",
      "Epoch 8/10\n",
      "1563/1562 [==============================] - 20s - loss: 1.4792 - acc: 0.4986    \n",
      "Epoch 9/10\n",
      "1563/1562 [==============================] - 20s - loss: 1.4867 - acc: 0.4956    \n",
      "Epoch 10/10\n",
      "1563/1562 [==============================] - 20s - loss: 1.5040 - acc: 0.4909    \n"
     ]
    },
    {
     "data": {
      "text/plain": [
       "<keras.callbacks.History at 0x7fa8ac6c43c8>"
      ]
     },
     "execution_count": 25,
     "metadata": {},
     "output_type": "execute_result"
    }
   ],
   "source": [
    "network.fit_generator(datagen.flow(x_train, y_train, batch_size=32),\n",
    "                    steps_per_epoch=len(x_train) / 32, epochs=10)"
   ]
  },
  {
   "cell_type": "code",
   "execution_count": 26,
   "metadata": {},
   "outputs": [
    {
     "name": "stdout",
     "output_type": "stream",
     "text": [
      "With image augmentation, Basic CNN achieves accuracy of 17.630000000000003%\n"
     ]
    }
   ],
   "source": [
    "_, accuracy = network.evaluate(x_test, y_test, verbose=False)\n",
    "print(\"With image augmentation, Basic CNN achieves accuracy of {}%\".format(accuracy * 100))"
   ]
  },
  {
   "cell_type": "code",
   "execution_count": null,
   "metadata": {},
   "outputs": [],
   "source": []
  }
 ],
 "metadata": {
  "kernelspec": {
   "display_name": "Python 3",
   "language": "python",
   "name": "python3"
  },
  "language_info": {
   "codemirror_mode": {
    "name": "ipython",
    "version": 3
   },
   "file_extension": ".py",
   "mimetype": "text/x-python",
   "name": "python",
   "nbconvert_exporter": "python",
   "pygments_lexer": "ipython3",
   "version": "3.5.2"
  }
 },
 "nbformat": 4,
 "nbformat_minor": 2
}
